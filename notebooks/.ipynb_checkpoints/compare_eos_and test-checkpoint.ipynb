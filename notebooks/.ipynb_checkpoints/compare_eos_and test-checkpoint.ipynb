{
 "cells": [
  {
   "cell_type": "code",
   "execution_count": 6,
   "id": "5d576085-7ebf-4881-8b07-f7ff0b5854d3",
   "metadata": {},
   "outputs": [
    {
     "name": "stdout",
     "output_type": "stream",
     "text": [
      "\n",
      "Common Molecules:\n",
      "set()\n",
      "\n",
      "Duplicate Molecules in Test Dataset:\n",
      "                                                 smiles  \\\n",
      "1381            OC(CN1CCC(Cc2ccc(F)cc2)CC1)c1ccc(Cl)cc1   \n",
      "2761  CO[C@H]1C[C@@H]2CC[C@@H](C)[C@@](O)(O2)C(=O)C(...   \n",
      "3014  CO[C@H]1C[C@@H]2CC[C@@H](C)[C@@](O)(O2)C(=O)C(...   \n",
      "3030            OC(CN1CCC(Cc2ccc(F)cc2)CC1)c1ccc(Cl)cc1   \n",
      "\n",
      "                         InChiKey  activity  \n",
      "1381  GGUSQTSTQSHJAH-UHFFFAOYSA-N         1  \n",
      "2761  CBPNZQVSJQDFBE-AQHKCTBXSA-N         0  \n",
      "3014  CBPNZQVSJQDFBE-AQHKCTBXSA-N         0  \n",
      "3030  GGUSQTSTQSHJAH-UHFFFAOYSA-N         1  \n",
      "\n",
      "Number of Duplicate Rows: 4\n"
     ]
    }
   ],
   "source": [
    "import pandas as pd\n",
    "\n",
    "# Read the datasets\n",
    "combined_dataset = pd.read_csv('../data/combined_dataset_eos.csv')\n",
    "test_dataset = pd.read_csv('test_dataset.csv')\n",
    "\n",
    "# Identify common and unique molecules based on the \"InChIKey\" column\n",
    "common_molecules = set(combined_dataset['InChiKey']).intersection(test_dataset['InChiKey'])\n",
    "\n",
    "\n",
    "# Display the results\n",
    "print(\"\\nCommon Molecules:\")\n",
    "print(common_molecules)\n",
    "\n",
    "\n",
    "# Check for duplicate molecules in the test_dataset file based on InChIKeys\n",
    "duplicates_test_dataset = test_dataset[test_dataset.duplicated(subset='InChiKey', keep=False)]\n",
    "\n",
    "# Display the results\n",
    "print(\"\\nDuplicate Molecules in Test Dataset:\")\n",
    "print(duplicates_test_dataset)\n",
    "print(\"\\nNumber of Duplicate Rows:\", len(duplicates_test_dataset))\n",
    "\n",
    "\n",
    "\n"
   ]
  },
  {
   "cell_type": "code",
   "execution_count": null,
   "id": "f36dfc80-a23e-467a-adc4-776297e785f0",
   "metadata": {},
   "outputs": [],
   "source": []
  }
 ],
 "metadata": {
  "kernelspec": {
   "display_name": "Python 3 (ipykernel)",
   "language": "python",
   "name": "python3"
  },
  "language_info": {
   "codemirror_mode": {
    "name": "ipython",
    "version": 3
   },
   "file_extension": ".py",
   "mimetype": "text/x-python",
   "name": "python",
   "nbconvert_exporter": "python",
   "pygments_lexer": "ipython3",
   "version": "3.8.18"
  }
 },
 "nbformat": 4,
 "nbformat_minor": 5
}
