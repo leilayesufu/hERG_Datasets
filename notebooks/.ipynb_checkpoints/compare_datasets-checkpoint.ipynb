{
 "cells": [
  {
   "cell_type": "code",
   "execution_count": 5,
   "id": "196ef633-bded-4601-b9f2-9425c1e26f78",
   "metadata": {
    "scrolled": true
   },
   "outputs": [
    {
     "name": "stdout",
     "output_type": "stream",
     "text": [
      "Overlap between ../data/eos2ta5/eos2ta5.csv and ../data/eos30f3/eos30f3.csv based on InChIKey: 7575 molecules\n",
      "Overlap between ../data/eos2ta5/eos2ta5.csv and ../data/eos4tcc/eos4tcc.csv based on InChIKey: 13515 molecules\n",
      "Overlap between ../data/eos2ta5/eos2ta5.csv and ../data/eos43at/eos43at.csv based on InChIKey: 2737 molecules\n",
      "Overlap between ../data/eos30f3/eos30f3.csv and ../data/eos4tcc/eos4tcc.csv based on InChIKey: 8533 molecules\n",
      "Overlap between ../data/eos30f3/eos30f3.csv and ../data/eos43at/eos43at.csv based on InChIKey: 2391 molecules\n",
      "Overlap between ../data/eos4tcc/eos4tcc.csv and ../data/eos43at/eos43at.csv based on InChIKey: 5543 molecules\n"
     ]
    }
   ],
   "source": [
    "import pandas as pd\n",
    "import numpy as np\n",
    "\n",
    "# Define the dataset paths\n",
    "datasets = [\n",
    "    {'path': '../data/eos2ta5/eos2ta5.csv'},\n",
    "    {'path': '../data/eos30f3/eos30f3.csv'},\n",
    "    {'path': '../data/eos4tcc/eos4tcc.csv'},\n",
    "    {'path': '../data/eos43at/eos43at.csv'}\n",
    "]\n",
    "\n",
    "# Read datasets into a list of DataFrames\n",
    "dfs = [pd.read_csv(dataset['path']) for dataset in datasets]\n",
    "\n",
    "# Dictionary to store the results\n",
    "overlap_results = {}\n",
    "\n",
    "# Check for overlapping molecules between all pairs of datasets based on inchikey\n",
    "for i in range(len(dfs)):\n",
    "    for j in range(i+1, len(dfs)):\n",
    "        # Use intersect1d to find common values between two DataFrames\n",
    "        common_values = np.intersect1d(dfs[i].columns, dfs[j].columns)\n",
    "\n",
    "        # Use the first common column found or modify as needed\n",
    "        common_column = common_values[0] if common_values.size > 0 else None\n",
    "\n",
    "        if common_column:\n",
    "            overlap = pd.merge(dfs[i], dfs[j], on=common_column, how='inner')\n",
    "            key = f\"Overlap between {datasets[i]['path']} and {datasets[j]['path']} based on {common_column}\"\n",
    "            overlap_results[key] = len(overlap)\n",
    "\n",
    "# Display the results\n",
    "for key, value in overlap_results.items():\n",
    "    print(f\"{key}: {value} molecules\")\n"
   ]
  },
  {
   "cell_type": "code",
   "execution_count": null,
   "id": "b4c4647d-b034-4652-891c-6054c4efe4fb",
   "metadata": {},
   "outputs": [],
   "source": []
  },
  {
   "cell_type": "code",
   "execution_count": null,
   "id": "f6b8c4ad-4f34-4a6b-aed5-0446c8dde9f4",
   "metadata": {},
   "outputs": [],
   "source": []
  },
  {
   "cell_type": "code",
   "execution_count": null,
   "id": "ef4becff-dcab-4c83-87e4-4772a19ca594",
   "metadata": {},
   "outputs": [],
   "source": []
  }
 ],
 "metadata": {
  "kernelspec": {
   "display_name": "Python 3 (ipykernel)",
   "language": "python",
   "name": "python3"
  },
  "language_info": {
   "codemirror_mode": {
    "name": "ipython",
    "version": 3
   },
   "file_extension": ".py",
   "mimetype": "text/x-python",
   "name": "python",
   "nbconvert_exporter": "python",
   "pygments_lexer": "ipython3",
   "version": "3.8.18"
  }
 },
 "nbformat": 4,
 "nbformat_minor": 5
}
