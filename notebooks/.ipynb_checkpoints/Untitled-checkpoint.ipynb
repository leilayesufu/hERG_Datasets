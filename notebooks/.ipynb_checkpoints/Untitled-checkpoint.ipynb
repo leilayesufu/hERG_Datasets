{
 "cells": [
  {
   "cell_type": "code",
   "execution_count": null,
   "id": "b23b73ce-c60f-4b2d-8aa4-26757239c62b",
   "metadata": {},
   "outputs": [],
   "source": [
    "vimport pandas as pd\n",
    "from rdkit import Chem\n",
    "\n",
    "# Replace 'dataset1.csv', 'dataset2.csv', etc., with your actual dataset filenames\n",
    "datasets = ['../data/eos2ta5/eos2ta5.csv', '../data/eos30f3/eos30f3.csv', '../data/eos4tcc/eos4tcc.csv', '../data/eos43at/eos43at.csv']\n",
    "\n",
    "# Load and process each dataset\n",
    "dfs = []\n",
    "for dataset in datasets:\n",
    "    df = pd.read_csv(dataset)\n",
    "    \n",
    "    # Remove rows with missing or invalid SMILES\n",
    "    df = df.dropna(subset=['smiles'])\n",
    "    df['smiles'] = df['smiles'].astype(str)\n",
    "    df = df[df['smiles'].apply(lambda x: Chem.MolFromSmiles(x) is not None)]\n",
    "    \n",
    "    # Remove duplicates based on SMILES\n",
    "    df = df.drop_duplicates(subset=['smiles'])\n",
    "    \n",
    "    # Add the processed DataFrame to the list\n",
    "    dfs.append(df)\n",
    "\n",
    "# Concatenate all DataFrames\n",
    "result_df = pd.concat(dfs, ignore_index=True)\n",
    "\n",
    "# Save the combined and processed DataFrame to a new CSV file\n",
    "result_df.to_csv('combined_dataset.csv', index=False)\n"
   ]
  }
 ],
 "metadata": {
  "kernelspec": {
   "display_name": "Python 3 (ipykernel)",
   "language": "python",
   "name": "python3"
  },
  "language_info": {
   "codemirror_mode": {
    "name": "ipython",
    "version": 3
   },
   "file_extension": ".py",
   "mimetype": "text/x-python",
   "name": "python",
   "nbconvert_exporter": "python",
   "pygments_lexer": "ipython3",
   "version": "3.8.18"
  }
 },
 "nbformat": 4,
 "nbformat_minor": 5
}
