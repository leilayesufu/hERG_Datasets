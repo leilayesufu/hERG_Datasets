{
 "cells": [
  {
   "cell_type": "code",
   "execution_count": null,
   "id": "ab1a71cf-f7b3-41cd-9b81-04a308f9aa28",
   "metadata": {},
   "outputs": [],
   "source": [
    "import pandas as pd\n",
    "import matplotlib.pyplot as plt\n",
    "\n",
    "# List of model names\n",
    "model_names = [\"Model 1\", \"Model 2\", \"Model 3\", \"Model 4\", \"Model 5\"]\n",
    "\n",
    "# List of CSV file paths for each model\n",
    "csv_files = [\"model1_predictions.csv\", \"model2_predictions.csv\", \"model3_predictions.csv\", \"model4_predictions.csv\", \"model5_predictions.csv\"]\n",
    "\n",
    "# Create a matrix of scatter plots\n",
    "num_models = len(model_names)\n",
    "\n",
    "fig, axs = plt.subplots(num_models, num_models, figsize=(15, 15))\n",
    "\n",
    "# Loop through each model pair\n",
    "for i in range(num_models):\n",
    "    for j in range(num_models):\n",
    "        if i != j:\n",
    "            # Load the predictions from CSV files\n",
    "            model1_data = pd.read_csv(csv_files[i])\n",
    "            model2_data = pd.read_csv(csv_files[j])\n",
    "\n",
    "            # Merge data frames based on input molecules\n",
    "            merged_data = pd.merge(model1_data, model2_data, on='input_molecule')\n",
    "\n",
    "            # Scatter plot\n",
    "            axs[i, j].scatter(merged_data['prediction_x'], merged_data['prediction_y'])\n",
    "            axs[i, j].set_xlabel(f'{model_names[i]} Predictions')\n",
    "            axs[i, j].set_ylabel(f'{model_names[j]} Predictions')\n",
    "            axs[i, j].set_title(f'{model_names[i]} vs {model_names[j]}')\n",
    "\n",
    "plt.tight_layout()\n",
    "plt.show()\n"
   ]
  }
 ],
 "metadata": {
  "kernelspec": {
   "display_name": "Python 3 (ipykernel)",
   "language": "python",
   "name": "python3"
  },
  "language_info": {
   "codemirror_mode": {
    "name": "ipython",
    "version": 3
   },
   "file_extension": ".py",
   "mimetype": "text/x-python",
   "name": "python",
   "nbconvert_exporter": "python",
   "pygments_lexer": "ipython3",
   "version": "3.8.18"
  }
 },
 "nbformat": 4,
 "nbformat_minor": 5
}
