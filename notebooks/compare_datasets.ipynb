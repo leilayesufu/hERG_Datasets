{
 "cells": [
  {
   "cell_type": "code",
   "execution_count": 1,
   "id": "196ef633-bded-4601-b9f2-9425c1e26f78",
   "metadata": {
    "scrolled": true
   },
   "outputs": [
    {
     "name": "stdout",
     "output_type": "stream",
     "text": [
      "Percentage overlap for ../data/eos2ta5/eos2ta5.csv with all models: 2.80%\n",
      "Percentage overlap for ../data/eos30f3/eos30f3.csv with all models: 4.77%\n",
      "Percentage overlap for ../data/eos4tcc/eos4tcc.csv with all models: 0.12%\n",
      "Percentage overlap for ../data/eos43at/eos43at.csv with all models: 2.28%\n",
      "Percentage overlap between ../data/eos2ta5/eos2ta5.csv and ../data/eos30f3/eos30f3.csv: 89.61%\n",
      "Percentage overlap between ../data/eos2ta5/eos2ta5.csv and ../data/eos4tcc/eos4tcc.csv: 87.00%\n",
      "Percentage overlap between ../data/eos2ta5/eos2ta5.csv and ../data/eos43at/eos43at.csv: 6.22%\n",
      "Percentage overlap between ../data/eos30f3/eos30f3.csv and ../data/eos4tcc/eos4tcc.csv: 90.05%\n",
      "Percentage overlap between ../data/eos30f3/eos30f3.csv and ../data/eos43at/eos43at.csv: 5.43%\n",
      "Percentage overlap between ../data/eos4tcc/eos4tcc.csv and ../data/eos43at/eos43at.csv: 9.41%\n"
     ]
    }
   ],
   "source": [
    "import pandas as pd\n",
    "import numpy as np\n",
    "\n",
    "# Define the dataset paths\n",
    "datasets = [\n",
    "    {'path': '../data/eos2ta5/eos2ta5.csv'},\n",
    "    {'path': '../data/eos30f3/eos30f3.csv'},\n",
    "    {'path': '../data/eos4tcc/eos4tcc.csv'},\n",
    "    {'path': '../data/eos43at/eos43at.csv'}\n",
    "]\n",
    "\n",
    "# Read datasets into a list of DataFrames\n",
    "dfs = [pd.read_csv(dataset['path']) for dataset in datasets]\n",
    "\n",
    "# Dictionary to store the results\n",
    "overlap_results = {}\n",
    "\n",
    "# Method 1: Get inchi keys common to ALL the models' datasets\n",
    "common_keys = set.intersection(*(set(df['InChIKey']) for df in dfs))\n",
    "total_common_molecules = len(common_keys)\n",
    "\n",
    "for i, df in enumerate(dfs):\n",
    "    total_molecules = len(df)\n",
    "    percentage_overlap = (total_common_molecules / total_molecules) * 100\n",
    "    overlap_results[f\"Percentage overlap for {datasets[i]['path']} with all models\"] = percentage_overlap\n",
    "\n",
    "# Method 2: Pairwise percentage overlap\n",
    "for i in range(len(dfs)):\n",
    "    for j in range(i + 1, len(dfs)):\n",
    "        common_keys_pairwise = set.intersection(set(dfs[i]['InChIKey']), set(dfs[j]['InChIKey']))\n",
    "        total_molecules_i = len(dfs[i])\n",
    "        total_molecules_j = len(dfs[j])\n",
    "        percentage_overlap_pairwise = (len(common_keys_pairwise) / min(total_molecules_i, total_molecules_j)) * 100\n",
    "        overlap_results[f\"Percentage overlap between {datasets[i]['path']} and {datasets[j]['path']}\"] = percentage_overlap_pairwise\n",
    "\n",
    "# Display the results\n",
    "for key, value in overlap_results.items():\n",
    "    print(f\"{key}: {value:.2f}%\")\n"
   ]
  },
  {
   "cell_type": "code",
   "execution_count": null,
   "id": "b4c4647d-b034-4652-891c-6054c4efe4fb",
   "metadata": {},
   "outputs": [],
   "source": []
  },
  {
   "cell_type": "code",
   "execution_count": null,
   "id": "f6b8c4ad-4f34-4a6b-aed5-0446c8dde9f4",
   "metadata": {},
   "outputs": [],
   "source": []
  },
  {
   "cell_type": "code",
   "execution_count": null,
   "id": "ef4becff-dcab-4c83-87e4-4772a19ca594",
   "metadata": {},
   "outputs": [],
   "source": []
  }
 ],
 "metadata": {
  "kernelspec": {
   "display_name": "Python 3 (ipykernel)",
   "language": "python",
   "name": "python3"
  },
  "language_info": {
   "codemirror_mode": {
    "name": "ipython",
    "version": 3
   },
   "file_extension": ".py",
   "mimetype": "text/x-python",
   "name": "python",
   "nbconvert_exporter": "python",
   "pygments_lexer": "ipython3",
   "version": "3.8.18"
  }
 },
 "nbformat": 4,
 "nbformat_minor": 5
}
