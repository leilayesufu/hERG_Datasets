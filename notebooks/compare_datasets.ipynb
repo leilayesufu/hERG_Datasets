{
 "cells": [
  {
   "cell_type": "code",
   "execution_count": 3,
   "id": "196ef633-bded-4601-b9f2-9425c1e26f78",
   "metadata": {
    "scrolled": true
   },
   "outputs": [
    {
     "name": "stdout",
     "output_type": "stream",
     "text": [
      "\n",
      "Duplicate Molecules Across All Datasets:\n",
      "                                                  smiles  \\\n",
      "0                          CCOC(=O)C1(CCN(C)CC1)c1ccccc1   \n",
      "1                          CCN(CC)CC(=O)NC1=C(C)C=CC=C1C   \n",
      "2                                        CCCC(CCC)C(=O)O   \n",
      "3        CCC(COC(=O)c1cc(OC)c(OC)c(OC)c1)(c1ccccc1)N(C)C   \n",
      "4      COc1ccc(N(C(C)=O)c2cc3c(cc2[N+](=O)[O-])OC(C)(...   \n",
      "...                                                  ...   \n",
      "16494         CS(=O)(=O)Nc1ccc(cc1Oc2ccccc2)[N+](=O)[O-]   \n",
      "16495                                 CC(=O)Nc1ccc(O)cc1   \n",
      "16496        C\\C(=C/CO)\\C=C\\C=C(/C)\\C=C\\C1=C(C)CCCC1(C)C   \n",
      "16497         Oc1cc2C(=O)Oc3c(O)c(O)cc4C(=O)Oc(c1O)c2c34   \n",
      "16498   Cc1ccc(cc1)c2cc(nn2c3ccc(cc3)S(=O)(=O)N)C(F)(F)F   \n",
      "\n",
      "                          InChIKey  X10  X20  X40  X60  X80  X100  \n",
      "0      XADCESSVHJOZHK-UHFFFAOYSA-N  NaN  NaN  NaN  NaN  NaN   NaN  \n",
      "1      NNJVILVZKWQKPM-UHFFFAOYSA-N  NaN  NaN  NaN  NaN  NaN   NaN  \n",
      "2      NIJJYAXOARWZEE-UHFFFAOYSA-N  NaN  NaN  NaN  NaN  NaN   NaN  \n",
      "3      LORDFXWUHHSAQU-UHFFFAOYSA-N  NaN  NaN  NaN  NaN  NaN   NaN  \n",
      "4      XZEITPHZKJCCSQ-UHFFFAOYSA-N  NaN  NaN  NaN  NaN  NaN   NaN  \n",
      "...                            ...  ...  ...  ...  ...  ...   ...  \n",
      "16494  HYWYRSMBCFDLJT-UHFFFAOYSA-N  NaN  NaN  NaN  NaN  NaN   NaN  \n",
      "16495  RZVAJINKPMORJF-UHFFFAOYSA-N  NaN  NaN  NaN  NaN  NaN   NaN  \n",
      "16496  FPIPGXGPPPQFEQ-OVSJKPMPSA-N  NaN  NaN  NaN  NaN  NaN   NaN  \n",
      "16497  AFSDNFLWKVMVRB-UHFFFAOYSA-N  NaN  NaN  NaN  NaN  NaN   NaN  \n",
      "16498  RZEKVGVHFLEQIL-UHFFFAOYSA-N  NaN  NaN  NaN  NaN  NaN   NaN  \n",
      "\n",
      "[49476 rows x 8 columns]\n"
     ]
    }
   ],
   "source": [
    "import pandas as pd\n",
    "\n",
    "# List of datasets with paths and InChIKey column names\n",
    "datasets = [\n",
    "    {'path': '../data/eos2ta5/eos2ta5.csv', 'inchikey_column': 'inchikey'},\n",
    "    {'path': '../data/eos30f3/eos30f3.csv', 'inchikey_column': 'inchikey'},\n",
    "    {'path': '../data/eos4tcc/eos4tcc.csv', 'inchikey_column': 'inchikey'},\n",
    "    {'path': '../data/eos43at/eos43at.csv', 'inchikey_column': 'inchikey'}\n",
    "]\n",
    "\n",
    "# Concatenate all datasets into one\n",
    "all_datasets = pd.concat([pd.read_csv(dataset['path']) for dataset in datasets])\n",
    "\n",
    "# Check for duplicate molecules based on InChIKeys\n",
    "duplicates_all_datasets = all_datasets[all_datasets.duplicated(subset='InChIKey', keep=False)]\n",
    "\n",
    "# Display the results\n",
    "print(\"\\nDuplicate Molecules Across All Datasets:\")\n",
    "print(duplicates_all_datasets)"
   ]
  },
  {
   "cell_type": "code",
   "execution_count": null,
   "id": "b4c4647d-b034-4652-891c-6054c4efe4fb",
   "metadata": {},
   "outputs": [],
   "source": []
  },
  {
   "cell_type": "code",
   "execution_count": null,
   "id": "f6b8c4ad-4f34-4a6b-aed5-0446c8dde9f4",
   "metadata": {},
   "outputs": [],
   "source": []
  },
  {
   "cell_type": "code",
   "execution_count": null,
   "id": "ef4becff-dcab-4c83-87e4-4772a19ca594",
   "metadata": {},
   "outputs": [],
   "source": []
  }
 ],
 "metadata": {
  "kernelspec": {
   "display_name": "Python 3 (ipykernel)",
   "language": "python",
   "name": "python3"
  },
  "language_info": {
   "codemirror_mode": {
    "name": "ipython",
    "version": 3
   },
   "file_extension": ".py",
   "mimetype": "text/x-python",
   "name": "python",
   "nbconvert_exporter": "python",
   "pygments_lexer": "ipython3",
   "version": "3.8.18"
  }
 },
 "nbformat": 4,
 "nbformat_minor": 5
}
