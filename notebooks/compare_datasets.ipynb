{
 "cells": [
  {
   "cell_type": "code",
   "execution_count": 1,
   "id": "196ef633-bded-4601-b9f2-9425c1e26f78",
   "metadata": {},
   "outputs": [
    {
     "ename": "FileNotFoundError",
     "evalue": "[Errno 2] No such file or directory: 'data/eosID1/dataset1.smi'",
     "output_type": "error",
     "traceback": [
      "\u001b[0;31m---------------------------------------------------------------------------\u001b[0m",
      "\u001b[0;31mFileNotFoundError\u001b[0m                         Traceback (most recent call last)",
      "Cell \u001b[0;32mIn[1], line 31\u001b[0m\n\u001b[1;32m     28\u001b[0m dataset_path2 \u001b[38;5;241m=\u001b[39m \u001b[38;5;124m'\u001b[39m\u001b[38;5;124mdata/eosID2/dataset2.smi\u001b[39m\u001b[38;5;124m'\u001b[39m\n\u001b[1;32m     30\u001b[0m \u001b[38;5;66;03m# Load SMILES from datasets\u001b[39;00m\n\u001b[0;32m---> 31\u001b[0m smiles_dataset1 \u001b[38;5;241m=\u001b[39m \u001b[43mload_smiles\u001b[49m\u001b[43m(\u001b[49m\u001b[43mdataset_path1\u001b[49m\u001b[43m)\u001b[49m\n\u001b[1;32m     32\u001b[0m smiles_dataset2 \u001b[38;5;241m=\u001b[39m load_smiles(dataset_path2)\n\u001b[1;32m     34\u001b[0m \u001b[38;5;66;03m# Compare datasets based on InChIKey\u001b[39;00m\n",
      "Cell \u001b[0;32mIn[1], line 7\u001b[0m, in \u001b[0;36mload_smiles\u001b[0;34m(file_path)\u001b[0m\n\u001b[1;32m      6\u001b[0m \u001b[38;5;28;01mdef\u001b[39;00m \u001b[38;5;21mload_smiles\u001b[39m(file_path):\n\u001b[0;32m----> 7\u001b[0m     \u001b[38;5;28;01mwith\u001b[39;00m \u001b[38;5;28;43mopen\u001b[39;49m\u001b[43m(\u001b[49m\u001b[43mfile_path\u001b[49m\u001b[43m,\u001b[49m\u001b[43m \u001b[49m\u001b[38;5;124;43m'\u001b[39;49m\u001b[38;5;124;43mr\u001b[39;49m\u001b[38;5;124;43m'\u001b[39;49m\u001b[43m)\u001b[49m \u001b[38;5;28;01mas\u001b[39;00m file:\n\u001b[1;32m      8\u001b[0m         smiles \u001b[38;5;241m=\u001b[39m [line\u001b[38;5;241m.\u001b[39mstrip() \u001b[38;5;28;01mfor\u001b[39;00m line \u001b[38;5;129;01min\u001b[39;00m file\u001b[38;5;241m.\u001b[39mreadlines()]\n\u001b[1;32m      9\u001b[0m     \u001b[38;5;28;01mreturn\u001b[39;00m smiles\n",
      "File \u001b[0;32m~/miniconda3/lib/python3.11/site-packages/IPython/core/interactiveshell.py:310\u001b[0m, in \u001b[0;36m_modified_open\u001b[0;34m(file, *args, **kwargs)\u001b[0m\n\u001b[1;32m    303\u001b[0m \u001b[38;5;28;01mif\u001b[39;00m file \u001b[38;5;129;01min\u001b[39;00m {\u001b[38;5;241m0\u001b[39m, \u001b[38;5;241m1\u001b[39m, \u001b[38;5;241m2\u001b[39m}:\n\u001b[1;32m    304\u001b[0m     \u001b[38;5;28;01mraise\u001b[39;00m \u001b[38;5;167;01mValueError\u001b[39;00m(\n\u001b[1;32m    305\u001b[0m         \u001b[38;5;124mf\u001b[39m\u001b[38;5;124m\"\u001b[39m\u001b[38;5;124mIPython won\u001b[39m\u001b[38;5;124m'\u001b[39m\u001b[38;5;124mt let you open fd=\u001b[39m\u001b[38;5;132;01m{\u001b[39;00mfile\u001b[38;5;132;01m}\u001b[39;00m\u001b[38;5;124m by default \u001b[39m\u001b[38;5;124m\"\u001b[39m\n\u001b[1;32m    306\u001b[0m         \u001b[38;5;124m\"\u001b[39m\u001b[38;5;124mas it is likely to crash IPython. If you know what you are doing, \u001b[39m\u001b[38;5;124m\"\u001b[39m\n\u001b[1;32m    307\u001b[0m         \u001b[38;5;124m\"\u001b[39m\u001b[38;5;124myou can use builtins\u001b[39m\u001b[38;5;124m'\u001b[39m\u001b[38;5;124m open.\u001b[39m\u001b[38;5;124m\"\u001b[39m\n\u001b[1;32m    308\u001b[0m     )\n\u001b[0;32m--> 310\u001b[0m \u001b[38;5;28;01mreturn\u001b[39;00m \u001b[43mio_open\u001b[49m\u001b[43m(\u001b[49m\u001b[43mfile\u001b[49m\u001b[43m,\u001b[49m\u001b[43m \u001b[49m\u001b[38;5;241;43m*\u001b[39;49m\u001b[43margs\u001b[49m\u001b[43m,\u001b[49m\u001b[43m \u001b[49m\u001b[38;5;241;43m*\u001b[39;49m\u001b[38;5;241;43m*\u001b[39;49m\u001b[43mkwargs\u001b[49m\u001b[43m)\u001b[49m\n",
      "\u001b[0;31mFileNotFoundError\u001b[0m: [Errno 2] No such file or directory: 'data/eosID1/dataset1.smi'"
     ]
    }
   ],
   "source": [
    "import pandas as pd\n",
    "from rdkit import Chem\n",
    "from rdkit.Chem import AllChem\n",
    "\n",
    "# Function to load SMILES from a CSV file\n",
    "def load_smiles_from_csv(file_path, smiles_column):\n",
    "    df = pd.read_csv(file_path)\n",
    "    smiles = df[smiles_column].tolist()\n",
    "    return smiles\n",
    "\n",
    "# Function to compare datasets based on InChIKey\n",
    "def compare_datasets(datasets):\n",
    "    inchikeys_sets = []\n",
    "    \n",
    "    for dataset in datasets:\n",
    "        smiles = load_smiles_from_csv(dataset['path'], dataset['smiles_column'])\n",
    "        inchikeys = {get_inchikey(smiles) for smiles in smiles}\n",
    "        inchikeys_sets.append(inchikeys)\n",
    "\n",
    "    common_inchikeys = set.intersection(*inchikeys_sets)\n",
    "\n",
    "    return common_inchikeys\n",
    "\n",
    "# Function to generate InChIKey for a given SMILES\n",
    "def get_inchikey(smiles):\n",
    "    mol = Chem.MolFromSmiles(smiles)\n",
    "    inchikey = AllChem.InchiToInchiKey(Chem.MolToInchi(mol))\n",
    "    return inchikey\n",
    "\n",
    "# List of datasets with paths and smiles column names\n",
    "datasets = [\n",
    "    {'path': 'data/eosID1/dataset1.csv', 'smiles_column': 'SMILES'},\n",
    "    {'path': 'data/eosID2/dataset2.csv', 'smiles_column': 'SMILES'},\n",
    "    {'path': 'data/eosID3/dataset3.csv', 'smiles_column': 'SMILES'},\n",
    "    # Add more datasets as needed\n",
    "]\n",
    "\n",
    "# Compare datasets based on InChIKey\n",
    "common_inchikeys = compare_datasets(datasets)\n",
    "\n",
    "# Print the common InChIKeys\n",
    "print(\"Common InChIKeys:\", common_inchikeys)"
   ]
  }
 ],
 "metadata": {
  "kernelspec": {
   "display_name": "Python 3 (ipykernel)",
   "language": "python",
   "name": "python3"
  },
  "language_info": {
   "codemirror_mode": {
    "name": "ipython",
    "version": 3
   },
   "file_extension": ".py",
   "mimetype": "text/x-python",
   "name": "python",
   "nbconvert_exporter": "python",
   "pygments_lexer": "ipython3",
   "version": "3.11.4"
  }
 },
 "nbformat": 4,
 "nbformat_minor": 5
}
